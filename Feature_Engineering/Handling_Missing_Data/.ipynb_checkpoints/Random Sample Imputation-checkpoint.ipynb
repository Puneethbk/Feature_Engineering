{
 "cells": [
  {
   "cell_type": "markdown",
   "id": "b4047f3e",
   "metadata": {},
   "source": [
    "#### Random Sample Imputation\n",
    "\n",
    "Aim: Random sample imputation consists of taking random observation from the dataset and we use this observation to replace the nan values\n",
    "\n",
    "When should it be used? \n",
    "It assumes that the data are missing completely at random(MCAR)"
   ]
  },
  {
   "cell_type": "code",
   "execution_count": null,
   "id": "cc4c1a78",
   "metadata": {},
   "outputs": [],
   "source": []
  }
 ],
 "metadata": {
  "kernelspec": {
   "display_name": "Python 3",
   "language": "python",
   "name": "python3"
  },
  "language_info": {
   "codemirror_mode": {
    "name": "ipython",
    "version": 3
   },
   "file_extension": ".py",
   "mimetype": "text/x-python",
   "name": "python",
   "nbconvert_exporter": "python",
   "pygments_lexer": "ipython3",
   "version": "3.8.8"
  }
 },
 "nbformat": 4,
 "nbformat_minor": 5
}
