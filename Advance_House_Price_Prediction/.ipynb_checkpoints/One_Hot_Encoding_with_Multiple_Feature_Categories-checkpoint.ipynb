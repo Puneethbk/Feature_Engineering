{
 "cells": [
  {
   "cell_type": "markdown",
   "id": "f0e8b4e8",
   "metadata": {},
   "source": [
    "# One Hot Encoding - Variables with Multiple Categories"
   ]
  },
  {
   "cell_type": "code",
   "execution_count": null,
   "id": "a4d0e468",
   "metadata": {},
   "outputs": [],
   "source": [
    "import pandas as pd\n",
    "import numpy as np\n",
    "\n",
    "data = pd.read_"
   ]
  }
 ],
 "metadata": {
  "kernelspec": {
   "display_name": "Python 3",
   "language": "python",
   "name": "python3"
  },
  "language_info": {
   "codemirror_mode": {
    "name": "ipython",
    "version": 3
   },
   "file_extension": ".py",
   "mimetype": "text/x-python",
   "name": "python",
   "nbconvert_exporter": "python",
   "pygments_lexer": "ipython3",
   "version": "3.8.8"
  }
 },
 "nbformat": 4,
 "nbformat_minor": 5
}
